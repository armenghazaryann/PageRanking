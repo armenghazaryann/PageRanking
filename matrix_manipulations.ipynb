{
 "cells": [
  {
   "cell_type": "code",
   "id": "initial_id",
   "metadata": {
    "collapsed": true,
    "ExecuteTime": {
     "end_time": "2024-05-04T10:31:29.233681Z",
     "start_time": "2024-05-04T10:31:29.056001Z"
    }
   },
   "source": [
    "import numpy as np\n",
    "from numba import njit\n",
    "import json"
   ],
   "outputs": [],
   "execution_count": 1
  },
  {
   "metadata": {},
   "cell_type": "markdown",
   "source": "## Loading json",
   "id": "f09e0b4e595148f2"
  },
  {
   "metadata": {
    "ExecuteTime": {
     "end_time": "2024-05-04T10:31:29.974545Z",
     "start_time": "2024-05-04T10:31:29.970463Z"
    }
   },
   "cell_type": "code",
   "source": [
    "with open('web_structure.json', 'r') as json_file:\n",
    "    webs_dict = json.load(json_file)"
   ],
   "id": "c5c038b9feff4f52",
   "outputs": [],
   "execution_count": 2
  },
  {
   "metadata": {},
   "cell_type": "markdown",
   "source": "## Creating matrix based on webpages' references",
   "id": "a6b752dabca8ff94"
  },
  {
   "metadata": {
    "ExecuteTime": {
     "end_time": "2024-05-04T10:31:32.314675Z",
     "start_time": "2024-05-04T10:31:32.310207Z"
    }
   },
   "cell_type": "code",
   "source": [
    "def dict_to_adjacency_matrix(input_dict):\n",
    "    elements_set = set()\n",
    "\n",
    "    def process_dict(d):\n",
    "        for key, value in d.items():\n",
    "            elements_set.add(key)\n",
    "            if isinstance(value, dict):\n",
    "                process_dict(value)\n",
    "\n",
    "    process_dict(input_dict)\n",
    "    elements_list = list(reversed(list(elements_set)))\n",
    "    index_map = {element: idx for idx, element in enumerate(elements_list)}\n",
    "    size = len(elements_list)\n",
    "    adjacency_matrix = np.zeros((size, size), dtype=int)\n",
    "\n",
    "    def fill_adjacency_matrix(d, source_idx):\n",
    "        for key, value in d.items():\n",
    "            target_idx = index_map[key]\n",
    "            adjacency_matrix[source_idx, target_idx] = 1\n",
    "            if isinstance(value, dict):\n",
    "                fill_adjacency_matrix(value, target_idx)\n",
    "\n",
    "    for key in input_dict:\n",
    "        source_idx = index_map[key]\n",
    "        fill_adjacency_matrix(input_dict[key], source_idx)\n",
    "\n",
    "    return adjacency_matrix, elements_list"
   ],
   "id": "45daa6f31a458b14",
   "outputs": [],
   "execution_count": 3
  },
  {
   "metadata": {
    "ExecuteTime": {
     "end_time": "2024-05-04T10:31:35.505471Z",
     "start_time": "2024-05-04T10:31:35.501938Z"
    }
   },
   "cell_type": "code",
   "source": "adj_matrix, elements = dict_to_adjacency_matrix(webs_dict)",
   "id": "a655ae4a18f49c42",
   "outputs": [],
   "execution_count": 4
  },
  {
   "metadata": {
    "ExecuteTime": {
     "end_time": "2024-05-04T10:31:35.917140Z",
     "start_time": "2024-05-04T10:31:35.913578Z"
    }
   },
   "cell_type": "code",
   "source": "print(len(elements))",
   "id": "b6f7123dc49644e6",
   "outputs": [
    {
     "name": "stdout",
     "output_type": "stream",
     "text": [
      "99\n"
     ]
    }
   ],
   "execution_count": 5
  },
  {
   "metadata": {},
   "cell_type": "markdown",
   "source": "## Normalization of the matrix",
   "id": "d59e1f4f4e500907"
  },
  {
   "metadata": {
    "ExecuteTime": {
     "end_time": "2024-05-04T10:31:39.616901Z",
     "start_time": "2024-05-04T10:31:39.613578Z"
    }
   },
   "cell_type": "code",
   "source": [
    "def normalize_adjacency_matrix(adj_matrix):\n",
    "    row_sums = adj_matrix.sum(axis=1, keepdims=True)\n",
    "    row_sums[row_sums == 0] = 1\n",
    "    normalized_matrix = adj_matrix / row_sums\n",
    "    return normalized_matrix"
   ],
   "id": "c6f08ed43d1841c1",
   "outputs": [],
   "execution_count": 6
  },
  {
   "metadata": {
    "ExecuteTime": {
     "end_time": "2024-05-04T10:31:40.223551Z",
     "start_time": "2024-05-04T10:31:40.219500Z"
    }
   },
   "cell_type": "code",
   "source": "normalized_matrix = normalize_adjacency_matrix(adj_matrix)",
   "id": "e8a0badcc4d2e64a",
   "outputs": [],
   "execution_count": 7
  },
  {
   "metadata": {},
   "cell_type": "markdown",
   "source": "## Calculation of final ranks using njit(accelerator)",
   "id": "b2a4f18a23fac2cd"
  },
  {
   "metadata": {
    "ExecuteTime": {
     "end_time": "2024-05-04T10:31:59.755250Z",
     "start_time": "2024-05-04T10:31:59.751570Z"
    }
   },
   "cell_type": "code",
   "source": [
    "# @njit\n",
    "def vector_calculator(h_matrix: np.ndarray, epsilon: float = 1e-7, max_iterations: int = 1000):\n",
    "    h_matrix = h_matrix.astype(np.float64)\n",
    "    n = h_matrix.shape[0]\n",
    "    v_0 = np.full(n, 1 / n, dtype=np.float64)\n",
    "    iteration = 0\n",
    "    while iteration < max_iterations:\n",
    "        v_1 = np.dot(h_matrix, v_0)\n",
    "        if np.linalg.norm(v_1 - v_0) < epsilon:\n",
    "            break\n",
    "        v_0 = v_1\n",
    "        iteration += 1\n",
    "    \n",
    "    return v_1"
   ],
   "id": "6465f4e8d61f9cdf",
   "outputs": [],
   "execution_count": 10
  },
  {
   "metadata": {
    "ExecuteTime": {
     "end_time": "2024-05-04T10:32:00.356071Z",
     "start_time": "2024-05-04T10:32:00.324245Z"
    }
   },
   "cell_type": "code",
   "source": "print(sum(vector_calculator(normalized_matrix)))",
   "id": "bb41f6e826256cd5",
   "outputs": [
    {
     "name": "stdout",
     "output_type": "stream",
     "text": [
      "0.8124744354668184\n"
     ]
    }
   ],
   "execution_count": 11
  },
  {
   "metadata": {},
   "cell_type": "markdown",
   "source": "#### As we can see the sum is not equal to 1.",
   "id": "beefdf4c54d11720"
  },
  {
   "metadata": {},
   "cell_type": "markdown",
   "source": "## Converting zero rows",
   "id": "2d0284fd7bec90d7"
  },
  {
   "metadata": {
    "ExecuteTime": {
     "end_time": "2024-05-04T10:32:05.262716Z",
     "start_time": "2024-05-04T10:32:05.257170Z"
    }
   },
   "cell_type": "code",
   "source": [
    "def convert_zero_rows(h_matrix: np.ndarray = None) -> np.ndarray:\n",
    "    n = h_matrix.shape[0]\n",
    "    for i in range(n):\n",
    "        if np.all(h_matrix[i] == 0):\n",
    "            h_matrix[i] = np.full(n, 1/n)\n",
    "            \n",
    "    return h_matrix"
   ],
   "id": "e5106ce7f660d276",
   "outputs": [],
   "execution_count": 12
  },
  {
   "metadata": {
    "ExecuteTime": {
     "end_time": "2024-05-04T10:32:06.095649Z",
     "start_time": "2024-05-04T10:32:06.091894Z"
    }
   },
   "cell_type": "code",
   "source": "converted_matrix = convert_zero_rows(normalized_matrix)",
   "id": "325c331a0e9f4c46",
   "outputs": [],
   "execution_count": 13
  },
  {
   "metadata": {
    "ExecuteTime": {
     "end_time": "2024-05-04T10:32:06.591552Z",
     "start_time": "2024-05-04T10:32:06.587719Z"
    }
   },
   "cell_type": "code",
   "source": "print(sum(vector_calculator(converted_matrix)))",
   "id": "4579763ab33c3933",
   "outputs": [
    {
     "name": "stdout",
     "output_type": "stream",
     "text": [
      "0.999999999999998\n"
     ]
    }
   ],
   "execution_count": 14
  },
  {
   "metadata": {},
   "cell_type": "markdown",
   "source": "## Creation of G matrix (included dampling factor)",
   "id": "1734591c8448253"
  },
  {
   "metadata": {
    "ExecuteTime": {
     "end_time": "2024-05-04T10:32:09.050306Z",
     "start_time": "2024-05-04T10:32:09.047295Z"
    }
   },
   "cell_type": "code",
   "source": [
    "def g_matrix_calculation(no_zero_row_matrix: np.ndarray, d = 0.85):\n",
    "    n = no_zero_row_matrix.shape[0]\n",
    "    return d * no_zero_row_matrix + (1-d) * np.full((n, n), 1 / n)"
   ],
   "id": "239c9494f8e82979",
   "outputs": [],
   "execution_count": 15
  },
  {
   "metadata": {
    "ExecuteTime": {
     "end_time": "2024-05-04T10:32:25.388754Z",
     "start_time": "2024-05-04T10:32:25.385692Z"
    }
   },
   "cell_type": "code",
   "source": "g_matrix = g_matrix_calculation(converted_matrix)",
   "id": "9a1ee9f5fa533dd1",
   "outputs": [],
   "execution_count": 17
  },
  {
   "metadata": {},
   "cell_type": "markdown",
   "source": "## Vector calculation with matrix G",
   "id": "3522d99387644dfe"
  },
  {
   "metadata": {
    "ExecuteTime": {
     "end_time": "2024-05-04T10:32:41.126832Z",
     "start_time": "2024-05-04T10:32:41.119052Z"
    }
   },
   "cell_type": "code",
   "source": "print(sum(vector_calculator(g_matrix)))",
   "id": "dbafd6695e4d0052",
   "outputs": [
    {
     "name": "stdout",
     "output_type": "stream",
     "text": [
      "0.9999999999999984\n"
     ]
    }
   ],
   "execution_count": 19
  },
  {
   "metadata": {},
   "cell_type": "code",
   "outputs": [],
   "execution_count": null,
   "source": "",
   "id": "eae445d541b6c947"
  }
 ],
 "metadata": {
  "kernelspec": {
   "display_name": "Python 3",
   "language": "python",
   "name": "python3"
  },
  "language_info": {
   "codemirror_mode": {
    "name": "ipython",
    "version": 2
   },
   "file_extension": ".py",
   "mimetype": "text/x-python",
   "name": "python",
   "nbconvert_exporter": "python",
   "pygments_lexer": "ipython2",
   "version": "2.7.6"
  }
 },
 "nbformat": 4,
 "nbformat_minor": 5
}
