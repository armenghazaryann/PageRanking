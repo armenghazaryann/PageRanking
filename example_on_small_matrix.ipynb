{
 "cells": [
  {
   "metadata": {
    "ExecuteTime": {
     "end_time": "2024-05-07T19:17:32.988608Z",
     "start_time": "2024-05-07T19:17:32.985338Z"
    }
   },
   "cell_type": "code",
   "source": "import numpy as np",
   "id": "5daef454b77ff1",
   "outputs": [],
   "execution_count": 9
  },
  {
   "metadata": {},
   "cell_type": "markdown",
   "source": "## H",
   "id": "da425ca792ba0812"
  },
  {
   "cell_type": "code",
   "id": "initial_id",
   "metadata": {
    "collapsed": true,
    "ExecuteTime": {
     "end_time": "2024-05-07T19:17:34.241412Z",
     "start_time": "2024-05-07T19:17:34.234700Z"
    }
   },
   "source": [
    "H = np.array([\n",
    "    [0, 0, 0, 0, 1, 0, 0, 0],\n",
    "    [1/4, 0, 0, 1/4, 0, 1/4, 1/4, 0],\n",
    "    [0, 0, 0, 0, 0, 0, 1/2, 1/2],\n",
    "    [0, 0, 0, 0, 0, 0, 0, 1],\n",
    "    [0, 0, 0, 0, 0, 0, 0, 0],\n",
    "    [1/2, 1/2, 0, 0, 0, 0, 0, 0],\n",
    "    [0, 0, 0, 0, 0, 1, 0, 0],\n",
    "    [0, 0, 1/2, 1/2, 0, 0, 0, 0]\n",
    "])\n",
    "\n",
    "v0 = np.array([1/8, 1/8, 1/8, 1/8, 1/8, 1/8, 1/8, 1/8])\n",
    "\n",
    "v = v0\n",
    "for _ in range(30):\n",
    "    v = np.dot(v, H)"
   ],
   "outputs": [],
   "execution_count": 10
  },
  {
   "metadata": {
    "ExecuteTime": {
     "end_time": "2024-05-07T19:17:50.253861Z",
     "start_time": "2024-05-07T19:17:50.250709Z"
    }
   },
   "cell_type": "code",
   "source": "print(v)",
   "id": "a45e1becd1104639",
   "outputs": [
    {
     "name": "stdout",
     "output_type": "stream",
     "text": [
      "[0.00326713 0.00248645 0.00582769 0.00660836 0.00388064 0.00510539\n",
      " 0.00345665 0.00878588]\n"
     ]
    }
   ],
   "execution_count": 11
  },
  {
   "metadata": {
    "ExecuteTime": {
     "end_time": "2024-05-07T19:17:53.999853Z",
     "start_time": "2024-05-07T19:17:53.997073Z"
    }
   },
   "cell_type": "code",
   "source": "print(sum(v))",
   "id": "9ed727f5a6ece890",
   "outputs": [
    {
     "name": "stdout",
     "output_type": "stream",
     "text": [
      "0.03941818710023881\n"
     ]
    }
   ],
   "execution_count": 12
  },
  {
   "metadata": {},
   "cell_type": "markdown",
   "source": "## s",
   "id": "eac134bcc9c14087"
  },
  {
   "metadata": {
    "ExecuteTime": {
     "end_time": "2024-05-07T19:18:01.182083Z",
     "start_time": "2024-05-07T19:18:01.175447Z"
    }
   },
   "cell_type": "code",
   "source": [
    "S = np.array([\n",
    "    [0, 0, 0, 0, 1, 0, 0, 0],\n",
    "    [1/4, 0, 0, 1/4, 0, 1/4, 1/4, 0],\n",
    "    [0, 0, 0, 0, 0, 0, 1/2, 1/2],\n",
    "    [0, 0, 0, 0, 0, 0, 0, 1],\n",
    "    [1/8, 1/8, 1/8, 1/8, 1/8, 1/8, 1/8, 1/8],\n",
    "    [1/2, 1/2, 0, 0, 0, 0, 0, 0],\n",
    "    [0, 0, 0, 0, 0, 1, 0, 0],\n",
    "    [0, 0, 1/2, 1/2, 0, 0, 0, 0]\n",
    "])\n",
    "\n",
    "v0 = np.array([1/8, 1/8, 1/8, 1/8, 1/8, 1/8, 1/8, 1/8])\n",
    "\n",
    "v = v0\n",
    "for _ in range(30):\n",
    "    v = np.dot(v, S)"
   ],
   "id": "2e330eaaf8b7bda6",
   "outputs": [],
   "execution_count": 13
  },
  {
   "metadata": {
    "ExecuteTime": {
     "end_time": "2024-05-07T19:18:05.483215Z",
     "start_time": "2024-05-07T19:18:05.479511Z"
    }
   },
   "cell_type": "code",
   "source": "print(v)",
   "id": "8e194ea4e4b5b35d",
   "outputs": [
    {
     "name": "stdout",
     "output_type": "stream",
     "text": [
      "[0.0982008  0.07849338 0.12400246 0.14370988 0.11247178 0.12946709\n",
      " 0.09530559 0.21834903]\n"
     ]
    }
   ],
   "execution_count": 14
  },
  {
   "metadata": {
    "ExecuteTime": {
     "end_time": "2024-05-07T19:18:08.460898Z",
     "start_time": "2024-05-07T19:18:08.457817Z"
    }
   },
   "cell_type": "code",
   "source": "print(sum(v))",
   "id": "187e9aeb3f2fc0a4",
   "outputs": [
    {
     "name": "stdout",
     "output_type": "stream",
     "text": [
      "1.0\n"
     ]
    }
   ],
   "execution_count": 15
  },
  {
   "metadata": {},
   "cell_type": "markdown",
   "source": "## G",
   "id": "6b1fe45d949f1beb"
  },
  {
   "metadata": {
    "ExecuteTime": {
     "end_time": "2024-05-07T19:18:11.590472Z",
     "start_time": "2024-05-07T19:18:11.582935Z"
    }
   },
   "cell_type": "code",
   "source": [
    "G = np.array([\n",
    "    [3/160, 3/160, 3/160, 3/160, 139/160, 3/160, 3/160, 3/160],\n",
    "    [37/160, 3/160, 3/160, 37/160, 3/160, 37/160, 37/160, 3/160],\n",
    "    [3/160, 3/160, 3/160, 3/160, 3/160, 3/160, 71/160, 71/160],\n",
    "    [3/160, 3/160, 3/160, 3/160, 3/160, 3/160, 3/160, 139/160],\n",
    "    [1/8, 1/8, 1/8, 1/8, 1/8, 1/8, 1/8, 1/8],\n",
    "    [71/160, 71/160, 3/160, 3/160, 3/160, 3/160, 3/160, 3/160,],\n",
    "    [3/160, 3/160, 3/160, 3/160, 3/160, 139/160, 3/160, 3/160],\n",
    "    [3/160, 3/160, 71/160, 71/160, 3/160, 3/160, 3/160, 3/160]\n",
    "])\n",
    "\n",
    "v0 = np.array([1/8, 1/8, 1/8, 1/8, 1/8, 1/8, 1/8, 1/8])\n",
    "\n",
    "v = v0\n",
    "for _ in range(30):\n",
    "    v = np.dot(v, G)"
   ],
   "id": "cc37a23fbb903be7",
   "outputs": [],
   "execution_count": 16
  },
  {
   "metadata": {
    "ExecuteTime": {
     "end_time": "2024-05-07T19:18:25.491733Z",
     "start_time": "2024-05-07T19:18:25.488054Z"
    }
   },
   "cell_type": "code",
   "source": "print(v)",
   "id": "1f0597e48d24c99c",
   "outputs": [
    {
     "name": "stdout",
     "output_type": "stream",
     "text": [
      "[0.10868453 0.08963628 0.11443949 0.13348775 0.12434487 0.13570959\n",
      " 0.09964369 0.1940538 ]\n"
     ]
    }
   ],
   "execution_count": 18
  },
  {
   "metadata": {
    "ExecuteTime": {
     "end_time": "2024-05-07T19:18:26.519138Z",
     "start_time": "2024-05-07T19:18:26.515561Z"
    }
   },
   "cell_type": "code",
   "source": "print(sum(v))",
   "id": "686ede92ecd26ad3",
   "outputs": [
    {
     "name": "stdout",
     "output_type": "stream",
     "text": [
      "0.9999999999999996\n"
     ]
    }
   ],
   "execution_count": 19
  }
 ],
 "metadata": {
  "kernelspec": {
   "display_name": "Python 3",
   "language": "python",
   "name": "python3"
  },
  "language_info": {
   "codemirror_mode": {
    "name": "ipython",
    "version": 2
   },
   "file_extension": ".py",
   "mimetype": "text/x-python",
   "name": "python",
   "nbconvert_exporter": "python",
   "pygments_lexer": "ipython2",
   "version": "2.7.6"
  }
 },
 "nbformat": 4,
 "nbformat_minor": 5
}
