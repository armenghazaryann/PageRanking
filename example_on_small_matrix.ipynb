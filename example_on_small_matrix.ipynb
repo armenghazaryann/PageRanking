{
 "cells": [
  {
   "metadata": {},
   "cell_type": "code",
   "outputs": [],
   "execution_count": null,
   "source": "import numpy as np",
   "id": "5daef454b77ff1"
  },
  {
   "metadata": {},
   "cell_type": "markdown",
   "source": "## H",
   "id": "da425ca792ba0812"
  },
  {
   "cell_type": "code",
   "execution_count": null,
   "id": "initial_id",
   "metadata": {
    "collapsed": true
   },
   "outputs": [],
   "source": [
    "H = np.array([\n",
    "    [0, 0, 0, 0, 1, 0, 0, 0],\n",
    "    [1/4, 0, 0, 1/4, 0, 1/4, 1/4, 0],\n",
    "    [0, 0, 0, 0, 0, 0, 1/2, 1/2],\n",
    "    [0, 0, 0, 0, 0, 0, 0, 1],\n",
    "    [0, 0, 0, 0, 0, 0, 0, 0],\n",
    "    [1/2, 1/2, 0, 0, 0, 0, 0, 0],\n",
    "    [0, 0, 0, 0, 0, 1, 0, 0],\n",
    "    [0, 0, 1/2, 1/2, 0, 0, 0, 0]\n",
    "])\n",
    "\n",
    "v0 = np.array([1/8, 1/8, 1/8, 1/8, 1/8, 1/8, 1/8, 1/8])\n",
    "\n",
    "v = v0\n",
    "for _ in range(30):\n",
    "    v = np.dot(v, H)"
   ]
  },
  {
   "metadata": {},
   "cell_type": "code",
   "outputs": [],
   "execution_count": null,
   "source": [
    "print(v)\n",
    "print(sum(v))"
   ],
   "id": "a45e1becd1104639"
  },
  {
   "metadata": {},
   "cell_type": "markdown",
   "source": "## s",
   "id": "eac134bcc9c14087"
  },
  {
   "metadata": {},
   "cell_type": "code",
   "outputs": [],
   "execution_count": null,
   "source": [
    "S = np.array([\n",
    "    [0, 0, 0, 0, 1, 0, 0, 0],\n",
    "    [1/4, 0, 0, 1/4, 0, 1/4, 1/4, 0],\n",
    "    [0, 0, 0, 0, 0, 0, 1/2, 1/2],\n",
    "    [0, 0, 0, 0, 0, 0, 0, 1],\n",
    "    [1/8, 1/8, 1/8, 1/8, 1/8, 1/8, 1/8, 1/8],\n",
    "    [1/2, 1/2, 0, 0, 0, 0, 0, 0],\n",
    "    [0, 0, 0, 0, 0, 1, 0, 0],\n",
    "    [0, 0, 1/2, 1/2, 0, 0, 0, 0]\n",
    "])\n",
    "\n",
    "v0 = np.array([1/8, 1/8, 1/8, 1/8, 1/8, 1/8, 1/8, 1/8])\n",
    "\n",
    "v = v0\n",
    "for _ in range(30):\n",
    "    v = np.dot(v, S)"
   ],
   "id": "2e330eaaf8b7bda6"
  },
  {
   "metadata": {},
   "cell_type": "code",
   "outputs": [],
   "execution_count": null,
   "source": [
    "print(v)\n",
    "print(sum(v))"
   ],
   "id": "8e194ea4e4b5b35d"
  },
  {
   "metadata": {},
   "cell_type": "markdown",
   "source": "## G",
   "id": "6b1fe45d949f1beb"
  },
  {
   "metadata": {},
   "cell_type": "code",
   "outputs": [],
   "execution_count": null,
   "source": [
    "G = np.array([\n",
    "    [3/160, 3/160, 3/160, 3/160, 139/160, 3/160, 3/160, 3/160],\n",
    "    [37/160, 3/160, 3/160, 37/160, 3/160, 37/160, 37/160, 3/160],\n",
    "    [3/160, 3/160, 3/160, 3/160, 3/160, 3/160, 71/160, 71/160],\n",
    "    [3/160, 3/160, 3/160, 3/160, 3/160, 3/160, 3/160, 139/160],\n",
    "    [1/8, 1/8, 1/8, 1/8, 1/8, 1/8, 1/8, 1/8],\n",
    "    [71/160, 71/160, 3/160, 3/160, 3/160, 3/160, 3/160, 3/160,],\n",
    "    [3/160, 3/160, 3/160, 3/160, 3/160, 139/160, 3/160, 3/160],\n",
    "    [3/160, 3/160, 71/160, 71/160, 3/160, 3/160, 3/160, 3/160]\n",
    "])\n",
    "\n",
    "v0 = np.array([1/8, 1/8, 1/8, 1/8, 1/8, 1/8, 1/8, 1/8])\n",
    "\n",
    "v = v0\n",
    "for _ in range(30):\n",
    "    v = np.dot(v, G)"
   ],
   "id": "cc37a23fbb903be7"
  },
  {
   "metadata": {},
   "cell_type": "code",
   "outputs": [],
   "execution_count": null,
   "source": [
    "print(v)\n",
    "print(sum(v))"
   ],
   "id": "1f0597e48d24c99c"
  }
 ],
 "metadata": {
  "kernelspec": {
   "display_name": "Python 3",
   "language": "python",
   "name": "python3"
  },
  "language_info": {
   "codemirror_mode": {
    "name": "ipython",
    "version": 2
   },
   "file_extension": ".py",
   "mimetype": "text/x-python",
   "name": "python",
   "nbconvert_exporter": "python",
   "pygments_lexer": "ipython2",
   "version": "2.7.6"
  }
 },
 "nbformat": 4,
 "nbformat_minor": 5
}
